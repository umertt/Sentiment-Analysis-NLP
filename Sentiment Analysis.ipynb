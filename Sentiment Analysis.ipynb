{
 "cells": [
  {
   "cell_type": "code",
   "execution_count": 1,
   "id": "cdcd50cc",
   "metadata": {},
   "outputs": [
    {
     "name": "stderr",
     "output_type": "stream",
     "text": [
      "C:\\Users\\Dell\\anaconda3\\lib\\site-packages\\scipy\\__init__.py:155: UserWarning: A NumPy version >=1.18.5 and <1.25.0 is required for this version of SciPy (detected version 1.26.4\n",
      "  warnings.warn(f\"A NumPy version >={np_minversion} and <{np_maxversion}\"\n",
      "[nltk_data] Downloading package punkt to\n",
      "[nltk_data]     C:\\Users\\Dell\\AppData\\Roaming\\nltk_data...\n",
      "[nltk_data]   Package punkt is already up-to-date!\n"
     ]
    },
    {
     "data": {
      "text/plain": [
       "True"
      ]
     },
     "execution_count": 1,
     "metadata": {},
     "output_type": "execute_result"
    }
   ],
   "source": [
    "import re\n",
    "import nltk\n",
    "from nltk.tokenize import word_tokenize\n",
    "nltk.download('punkt')"
   ]
  },
  {
   "cell_type": "markdown",
   "id": "7aac95aa",
   "metadata": {},
   "source": [
    "# PREPROCESSING"
   ]
  },
  {
   "cell_type": "code",
   "execution_count": 2,
   "id": "5493a21b",
   "metadata": {},
   "outputs": [
    {
     "name": "stdout",
     "output_type": "stream",
     "text": [
      "['if', 'you', 'want', 'me', 'to', 'listen', 'to', 'you', 'respect', 'that', 'i', 'can', 'hear', 'if', 'you', 'want', 'me', 'to', 'speak', 'to', 'you', 'respect', 'that', 'i', 'have', 'a', 'voice', 'if', 'you', 'want', 'me', 'to', 'look', 'at', 'you', 'respect', 'my', 'ability', 'to', 'see', 'do', 'you', 'know', 'how', 'to', 'do', 'that', 'listen', 'to', 'me', 'when', 'i', 'talk', 'talk', 'to', 'me', 'when', 'you', 'hear', 'me', 'and', 'look', 'at', 'me', 'when', 'i', 'look', 'at', 'you', 'share', 'me', 'not', 'only', 'your', 'sadness', 'but', 'also', 'your', 'happiness', 'if', 'i', 'can', 'bear', 'hours', 'of', 'your', 'sadness', 'believe', 'me', 'its', 'because', 'i', 'would', 'like', 'to', 'see', 'days', 'of', 'your', 'happiness', 'depend', 'on', 'me', 'if', 'you', 'respect', 'that', 'i', 'am', 'worthy', 'of', 'your', 'trust', 'open', 'your', 'heart', 'to', 'me', 'if', 'you', 'respect', 'that', 'i', 'am', 'worthy', 'of', 'your', 'love']\n",
      "['i', 'appreciate', 'a', 'genuine', 'effort', 'over', 'a', 'fake', 'attempt', 'to', 'gain', 'my', 'trust', 'the', 'clouds', 'overtake', 'the', 'sky', 'for', 'a', 'little', 'while', 'but', 'the', 'sun', 'always', 'strikes', 'through']\n",
      "['whatever', 'you', 'do', 'do', 'it', 'with', 'purpose', 'being', 'focused', 'is', 'not', 'something', 'to', 'be', 'ashamed', 'of', 'it', 'is', 'something', 'to', 'be', 'proud', 'of', 'when', 'you', 'know', 'what', 'you', 'are', 'doing', 'and', 'have', 'a', 'clear', 'vision', 'of', 'where', 'you', 'are', 'going', 'you', 'will', 'not', 'need', 'to', 'chase', 'opportunities', 'opportunities', 'will', 'seek', 'you', 'happiness', 'will', 'chase', 'you', 'and', 'instead', 'of', 'being', 'a', 'choice', 'you', 'will', 'be', 'the', 'one', 'choosing']\n",
      "['own', 'my', 'heart', 'with', 'your', 'respect', 'free', 'me', 'from', 'your', 'deceit', 'captivate', 'me', 'with', 'your', 'honesty', 'rid', 'me', 'of', 'your', 'uncertainty', 'challenge', 'me', 'with', 'your', 'thoughts', 'enslave', 'me', 'with', 'your', 'genuineness', 'impress', 'me', 'with', 'your', 'spontaneity', 'treat', 'me', 'right', 'and', 'i', 'will', 'treat', 'you', 'better', 'keep', 'me', 'away', 'from', 'what', 'i', 'dont', 'deserve', 'and', 'i', 'will', 'bring', 'you', 'closer', 'to', 'what', 'you', 'deserve', 'respect', 'me', 'be', 'honest', 'with', 'me', 'i', 'will', 'give', 'you', 'nothing', 'but', 'multiples', 'of', 'that', 'in', 'return']\n",
      "['dont', 'rely', 'on', 'others', 'to', 'make', 'your', 'life', 'better', 'you', 'may', 'seem', 'like', 'a', 'puzzle', 'piece', 'that', 'fits', 'nicely', 'into', 'their', 'plans', 'at', 'one', 'point', 'but', 'what', 'happens', 'if', 'they', 'change', 'their', 'minds', 'so', 'be', 'it', 'you', 'have', 'a', 'mind', 'to', 'lead', 'you', 'by', 'logic', 'and', 'a', 'heart', 'to', 'lead', 'you', 'by', 'reason', 'you', 'choose', 'your', 'fate', 'by', 'taking', 'responsibility', 'and', 'by', 'taking', 'the', 'lead', 'in', 'your', 'life', 'dont', 'make', 'yourself', 'part', 'of', 'others', 'plans', 'make', 'your', 'own', 'plan', 'and', 'be', 'part', 'of', 'it']\n",
      "['beautiful', 'hearts', 'are', 'hard', 'to', 'find', 'and', 'to', 'reward', 'them', 'when', 'we', 'do', 'find', 'them', 'we', 'convince', 'ourselves', 'that', 'theyre', 'too', 'good', 'for', 'us', 'what', 'a', 'reward', 'instead', 'of', 'holding', 'onto', 'them', 'we', 'pull', 'ourselves', 'away', 'we', 'push', 'them', 'away', 'we', 'forget', 'that', 'the', 'beauty', 'of', 'their', 'hearts', 'comes', 'from', 'their', 'ability', 'to', 'love', 'and', 'from', 'their', 'willingness', 'to', 'liberate', 'those', 'whose', 'hearts', 'have', 'caged', 'themselves', 'in', 'the', 'past']\n",
      "['i', 'can', 'point', 'you', 'towards', 'the', 'sky', 'but', 'i', 'cant', 'make', 'you', 'reach', 'for', 'the', 'stars', 'i', 'can', 'show', 'you', 'the', 'moon', 'but', 'i', 'cant', 'make', 'you', 'feel', 'its', 'beauty', 'or', 'appreciate', 'its', 'light', 'i', 'can', 'show', 'you', 'the', 'pathways', 'that', 'you', 'can', 'take', 'but', 'i', 'cant', 'make', 'you', 'walk', 'down', 'them', 'i', 'can', 'extend', 'my', 'hand', 'to', 'help', 'you', 'but', 'i', 'cant', 'make', 'you', 'hold', 'it', 'back', 'i', 'can', 'tell', 'you', 'the', 'truth', 'but', 'i', 'cant', 'make', 'you', 'believe', 'it', 'i', 'can', 'tell', 'you', 'how', 'i', 'feel', 'but', 'i', 'cant', 'make', 'you', 'care']\n",
      "['dont', 'tell', 'me', 'what', 'i', 'want', 'to', 'hear', 'tell', 'me', 'the', 'truth', 'it', 'may', 'hurt', 'but', 'it', 'definitely', 'wont', 'hurt', 'more', 'than', 'the', 'feeling', 'that', 'i', 'was', 'told', 'something', 'out', 'of', 'pity', 'not', 'out', 'of', 'honesty', 'if', 'you', 'mean', 'it', 'say', 'it', 'if', 'you', 'dont', 'keep', 'your', 'words', 'until', 'the', 'right', 'person', 'is', 'standing', 'in', 'front', 'of', 'you', 'if', 'words', 'are', 'said', 'too', 'many', 'times', 'they', 'become', 'cheap', 'and', 'i', 'only', 'deserve', 'to', 'hear', 'what', 'is', 'valuable']\n",
      "['have', 'you', 'ever', 'seen', 'a', 'thirsty', 'ocean', 'or', 'air', 'grasping', 'for', 'breath', 'has', 'it', 'ever', 'seemed', 'that', 'the', 'sky', 'wanted', 'to', 'stretch', 'out', 'more', 'or', 'that', 'the', 'rainbow', 'wanted', 'more', 'colors', 'before', 'you', 'ask', 'for', 'something', 'look', 'at', 'what', 'you', 'already', 'have', 'dont', 'ask', 'for', 'more', 'than', 'you', 'need', 'dont', 'let', 'your', 'want', 'replace', 'your', 'need', 'because', 'a', 'day', 'will', 'come', 'when', 'you', 'will', 'lose', 'what', 'you', 'need', 'to', 'get', 'what', 'you', 'want']\n",
      "['if', 'my', 'heart', 'could', 'speak', 'it', 'would', 'need', 'a', 'whole', 'new', 'language', 'to', 'express', 'the', 'way', 'i', 'feel', 'if', 'my', 'heart', 'could', 'create', 'a', 'piece', 'of', 'art', 'artists', 'could', 'not', 'handle', 'the', 'power', 'of', 'its', 'feelings', 'if', 'my', 'heart', 'could', 'sing', 'composers', 'would', 'not', 'be', 'able', 'to', 'put', 'together', 'its', 'symphony', 'the', 'softest', 'ever', 'made', 'if', 'my', 'heart', 'could', 'smile', 'it', 'would', 'flutter', 'out', 'of', 'my', 'chest', 'and', 'into', 'my', 'eyes', 'to', 'see', 'the', 'world', 'with', 'a', 'touch', 'of', 'beauty', 'and', 'a', 'hint', 'of', 'joy']\n",
      "['sometimes', 'its', 'more', 'important', 'to', 'figure', 'out', 'where', 'you', 'are', 'than', 'to', 'decide', 'where', 'youre', 'going', 'if', 'you', 'dont', 'know', 'where', 'you', 'are', 'how', 'do', 'you', 'expect', 'to', 'know', 'your', 'destination', 'we', 'often', 'rush', 'to', 'our', 'next', 'goal', 'forgetting', 'what', 'we', 'are', 'leaving', 'behind', 'forgetting', 'those', 'we', 'are', 'leaving', 'behind', 'we', 'forget', 'that', 'happiness', 'is', 'a', 'journey', 'not', 'a', 'destination', 'we', 'forget', 'that', 'tomorrow', 'would', 'not', 'exist', 'without', 'today', 'and', 'that', 'today', 'would', 'not', 'be', 'what', 'it', 'is', 'without', 'who', 'we', 'are', 'and', 'what', 'we', 'have']\n",
      "['treasures', 'are', 'sought', 'because', 'they', 'are', 'unique', 'they', 'are', 'different', 'they', 'are', 'timeless', 'despite', 'the', 'time', 'that', 'passes', 'after', 'they', 'come', 'to', 'existence', 'they', 'are', 'not', 'easily', 'found', 'because', 'to', 'get', 'to', 'them', 'one', 'must', 'work', 'hard', 'one', 'must', 'dig', 'deep', 'one', 'must', 'appreciate', 'the', 'value', 'at', 'hand', 'you', 'are', 'deep', 'you', 'are', 'valuable', 'so', 'let', 'others', 'dig', 'you', 'up']\n",
      "['the', 'first', 'obstacle', 'to', 'change', 'is', 'feeling', 'the', 'need', 'to', 'give', 'those', 'around', 'you', 'an', 'excuse', 'you', 'dont', 'have', 'to', 'explain', 'but', 'its', 'okay', 'if', 'you', 'do', 'most', 'likely', 'it', 'is', 'those', 'around', 'you', 'who', 'have', 'made', 'you', 'realize', 'that', 'you', 'need', 'to', 'change', 'so', 'why', 'would', 'you', 'explain', 'would', 'you', 'explain', 'to', 'someone', 'why', 'youre', 'watering', 'a', 'withering', 'flower', 'would', 'you', 'explain', 'why', 'youre', 'feeding', 'a', 'hungry', 'person', 'would', 'you', 'explain', 'why', 'youre', 'breathing', 'you', 'dont', 'need', 'to', 'explain', 'why', 'youre', 'protecting', 'your', 'soul', 'from', 'harm', 'you', 'really', 'dont']\n",
      "['have', 'that', 'wise', 'instinct', 'of', 'knowing', 'how', 'you', 'would', 'react', 'in', 'certain', 'situations', 'before', 'they', 'happen', 'so', 'that', 'you', 'can', 'be', 'wellprepared', 'to', 'react', 'wisely', 'notice', 'patterns', 'in', 'your', 'behavior', 'and', 'the', 'way', 'you', 'react', 'in', 'unexpected', 'situations', 'so', 'that', 'you', 'may', 'prepare', 'yourself', 'to', 'react', 'better', 'the', 'next', 'time', 'once', 'you', 'master', 'yourself', 'impossible', 'will', 'no', 'longer', 'stand', 'in', 'the', 'way', 'of', 'your', 'dreams']\n",
      "['there', 'are', 'so', 'many', 'thoughts', 'that', 'would', 'be', 'much', 'more', 'beautiful', 'if', 'they', 'were', 'just', 'kept', 'as', 'thoughts', 'words', 'sometimes', 'dont', 'do', 'justice', 'to', 'our', 'thoughts', 'and', 'feelings', 'they', 'are', 'better', 'kept', 'inside', 'to', 'last', 'a', 'while', 'rather', 'than', 'said', 'and', 'forgotten', 'every', 'thought', 'has', 'the', 'right', 'time', 'to', 'be', 'verbalized', 'and', 'every', 'feeling', 'has', 'the', 'right', 'time', 'to', 'be', 'expressed', 'meanwhile', 'enjoy', 'the', 'thought', 'enjoy', 'the', 'feeling', 'and', 'give', 'them', 'the', 'time', 'they', 'deserve', 'to', 'be', 'as', 'strong', 'as', 'you', 'want', 'them', 'to', 'be']\n"
     ]
    }
   ],
   "source": [
    "def preprocess_text(text):\n",
    "    text = re.sub(r'[^\\w\\s]', '', text) \n",
    "    text = text.lower() \n",
    "    tokens = word_tokenize(text)\n",
    "\n",
    "    return tokens\n",
    "chapter1_text = \"\"\"\n",
    "If you want me to listen to you, respect that I can hear. If you want me to\n",
    "speak to you, respect that I have a voice. If you want me to look at you,\n",
    "respect my ability to see. Do you know how to do that? Listen to me when I\n",
    "talk, talk to me when you hear me, and look at me when I look at you.\n",
    "Share me not only your sadness, but also your happiness. If I can bear hours\n",
    "of your sadness, believe me, it's because I would like to see days of your\n",
    "happiness. Depend on me if you respect that I am worthy of your trust.\n",
    "Open your heart to me if you respect that I am worthy of your love.\n",
    "\"\"\"\n",
    "chapter2_text = \"\"\"\n",
    "I appreciate a genuine effort over a fake attempt to gain my trust. The\n",
    "clouds overtake the sky for a little while, but the sun always strikes through.\n",
    "\"\"\"\n",
    "chapter3_text = \"\"\"\n",
    "Whatever you do, do it with purpose. Being focused is not something to be\n",
    "ashamed of. It is something to be proud of. When you know what you are\n",
    "doing and have a clear vision of where you are going, you will not need to\n",
    "chase opportunities. Opportunities will seek you. Happiness will chase you.\n",
    "And, instead of being a choice, you will be the one choosing.\n",
    "\"\"\"\n",
    "chapter4_text = \"\"\"\n",
    "Own my heart with your respect. Free me from your deceit. Captivate me\n",
    "with your honesty. Rid me of your uncertainty. Challenge me with your\n",
    "thoughts. Enslave me with your genuineness. Impress me with your\n",
    "spontaneity. Treat me right, and I will treat you better. Keep me away from\n",
    "what I don't deserve, and I will bring you closer to what you deserve.\n",
    "Respect me. Be honest with me. I will give you nothing but multiples of\n",
    "that in return.\n",
    "\"\"\"\n",
    "chapter5_text = \"\"\"\n",
    "Don't rely on others to make your life better. You may seem like a puzzle\n",
    "piece that fits nicely into their plans at one point, but what happens if they\n",
    "change their minds? So be it. You have a mind to lead you by logic and a\n",
    "heart to lead you by reason. You choose your fate by taking responsibility\n",
    "and by taking the lead in your life. Don't make yourself part of others' plans.\n",
    "Make your own plan and be part of it.\n",
    "\"\"\"\n",
    "chapter6_text = \"\"\"\n",
    "Beautiful hearts are hard to find, and to reward them when we do find them,\n",
    "we convince ourselves that they're too good for us. What a reward. Instead\n",
    "of holding onto them, we pull ourselves away. We push them away. We\n",
    "forget that the beauty of their hearts comes from their ability to love and\n",
    "from their willingness to liberate those whose hearts have caged themselves\n",
    "in the past.\n",
    "\"\"\"\n",
    "chapter7_text = \"\"\"\n",
    "I can point you towards the sky, but I can't make you reach for the stars. I\n",
    "can show you the moon, but I can't make you feel its beauty or appreciate\n",
    "its light. I can show you the pathways that you can take, but I can't make\n",
    "you walk down them. I can extend my hand to help you, but I can't make\n",
    "you hold it back. I can tell you the truth, but I can't make you believe it. I\n",
    "can tell you how I feel, but I can't make you care.\n",
    "\"\"\"\n",
    "chapter8_text = \"\"\"\n",
    "Don't tell me what I want to hear. Tell me the truth. It may hurt, but it\n",
    "definitely won't hurt more than the feeling that I was told something out of\n",
    "pity, not out of honesty. If you mean it, say it. If you don't, keep your words\n",
    "until the right person is standing in front of you. If words are said too many\n",
    "times, they become cheap, and I only deserve to hear what is valuable.\n",
    "\"\"\"\n",
    "chapter9_text = \"\"\"\n",
    "Have you ever seen a thirsty ocean? Or air grasping for breath? Has it ever\n",
    "seemed that the sky wanted to stretch out more or that the rainbow wanted\n",
    "more colors? Before you ask for something, look at what you already have.\n",
    "Don’t ask for more than you need. Don’t let your want replace your need,\n",
    "because a day will come when you will lose what you need to get what you\n",
    "want.\n",
    "\"\"\"\n",
    "chapter10_text = \"\"\"\n",
    "If my heart could speak, it would need a whole new language to express the\n",
    "way I feel. If my heart could create a piece of art, artists could not handle\n",
    "the power of its feelings. If my heart could sing, composers would not be\n",
    "able to put together its symphony, the softest ever made. If my heart could\n",
    "smile, it would flutter out of my chest and into my eyes to see the world\n",
    "with a touch of beauty and a hint of joy.\n",
    "\"\"\"\n",
    "chapter11_text = \"\"\"\n",
    "Sometimes it's more important to figure out where you are than to decide\n",
    "where you're going. If you don't know where you are, how do you expect to\n",
    "know your destination? We often rush to our next goal, forgetting what we\n",
    "are leaving behind, forgetting those we are leaving behind. We forget that\n",
    "happiness is a journey, not a destination. We forget that tomorrow would\n",
    "not exist without today, and that today would not be what it is without who\n",
    "we are and what we have.\n",
    "\"\"\"\n",
    "chapter12_text = \"\"\"\n",
    "Treasures are sought because they are unique. They are different. They are\n",
    "timeless, despite the time that passes after they come to existence. They are\n",
    "not easily found because, to get to them, one must work hard. One must dig\n",
    "deep. One must appreciate the value at hand. You are deep. You are\n",
    "valuable. So let others dig you up.\n",
    "\"\"\"\n",
    "chapter13_text = \"\"\"\n",
    "The first obstacle to change is feeling the need to give those around you an\n",
    "excuse. You don't have to explain, but it’s okay if you do. Most likely, it is\n",
    "those around you who have made you realize that you need to change, so\n",
    "why would you explain? Would you explain to someone why you're\n",
    "watering a withering flower? Would you explain why you're feeding a\n",
    "hungry person? Would you explain why you're breathing? You don't need to\n",
    "explain why you're protecting your soul from harm. You really don’t.\n",
    "\"\"\"\n",
    "chapter14_text = \"\"\"\n",
    "Have that wise instinct of knowing how you would react in certain\n",
    "situations before they happen so that you can be well-prepared to react\n",
    "wisely. Notice patterns in your behavior, and the way you react in\n",
    "unexpected situations, so that you may prepare yourself to react better the\n",
    "next time. Once you master yourself, impossible will no longer stand in the\n",
    "way of your dreams.\n",
    "\"\"\"\n",
    "chapter15_text = \"\"\"\n",
    "There are so many thoughts that would be much more beautiful if they were\n",
    "just kept as thoughts. Words sometimes don't do justice to our thoughts and\n",
    "feelings. They are better kept inside to last a while rather than said and\n",
    "forgotten. Every thought has the right time to be verbalized, and every\n",
    "feeling has the right time to be expressed. Meanwhile, enjoy the thought,\n",
    "enjoy the feeling, and give them the time they deserve to be as strong as\n",
    "you want them to be.\n",
    "\"\"\"\n",
    "tokens_chapter1 = preprocess_text(chapter1_text)\n",
    "print(tokens_chapter1)\n",
    "tokens_chapter2 = preprocess_text(chapter2_text)\n",
    "print(tokens_chapter2)\n",
    "tokens_chapter3 = preprocess_text(chapter3_text)\n",
    "print(tokens_chapter3)\n",
    "tokens_chapter4 = preprocess_text(chapter4_text)\n",
    "print(tokens_chapter4)\n",
    "tokens_chapter5 = preprocess_text(chapter5_text)\n",
    "print(tokens_chapter5)\n",
    "tokens_chapter6 = preprocess_text(chapter6_text)\n",
    "print(tokens_chapter6)\n",
    "tokens_chapter7 = preprocess_text(chapter7_text)\n",
    "print(tokens_chapter7)\n",
    "tokens_chapter8 = preprocess_text(chapter8_text)\n",
    "print(tokens_chapter8)\n",
    "tokens_chapter9 = preprocess_text(chapter9_text)\n",
    "print(tokens_chapter9)\n",
    "tokens_chapter10 = preprocess_text(chapter10_text)\n",
    "print(tokens_chapter10)\n",
    "tokens_chapter11 = preprocess_text(chapter11_text)\n",
    "print(tokens_chapter11)\n",
    "tokens_chapter12 = preprocess_text(chapter12_text)\n",
    "print(tokens_chapter12)\n",
    "tokens_chapter13 = preprocess_text(chapter13_text)\n",
    "print(tokens_chapter13)\n",
    "tokens_chapter14 = preprocess_text(chapter14_text)\n",
    "print(tokens_chapter14)\n",
    "tokens_chapter15 = preprocess_text(chapter15_text)\n",
    "print(tokens_chapter15)\n",
    "\n",
    "\n",
    "\n"
   ]
  },
  {
   "cell_type": "markdown",
   "id": "de53a737",
   "metadata": {},
   "source": [
    "# EXTRACTING ASPECTS"
   ]
  },
  {
   "cell_type": "code",
   "execution_count": 2,
   "id": "eb2f40a9",
   "metadata": {},
   "outputs": [
    {
     "name": "stdout",
     "output_type": "stream",
     "text": [
      "Requirement already satisfied: transformers in c:\\users\\dell\\anaconda3\\lib\\site-packages (4.41.1)\n",
      "Requirement already satisfied: safetensors>=0.4.1 in c:\\users\\dell\\anaconda3\\lib\\site-packages (from transformers) (0.4.3)\n",
      "Requirement already satisfied: requests in c:\\users\\dell\\anaconda3\\lib\\site-packages (from transformers) (2.28.1)\n",
      "Requirement already satisfied: numpy>=1.17 in c:\\users\\dell\\anaconda3\\lib\\site-packages (from transformers) (1.26.4)\n",
      "Requirement already satisfied: packaging>=20.0 in c:\\users\\dell\\anaconda3\\lib\\site-packages (from transformers) (21.3)\n",
      "Requirement already satisfied: tokenizers<0.20,>=0.19 in c:\\users\\dell\\anaconda3\\lib\\site-packages (from transformers) (0.19.1)\n",
      "Requirement already satisfied: huggingface-hub<1.0,>=0.23.0 in c:\\users\\dell\\anaconda3\\lib\\site-packages (from transformers) (0.23.1)\n",
      "Requirement already satisfied: tqdm>=4.27 in c:\\users\\dell\\anaconda3\\lib\\site-packages (from transformers) (4.64.1)\n",
      "Requirement already satisfied: filelock in c:\\users\\dell\\anaconda3\\lib\\site-packages (from transformers) (3.6.0)\n",
      "Requirement already satisfied: regex!=2019.12.17 in c:\\users\\dell\\anaconda3\\lib\\site-packages (from transformers) (2022.7.9)\n",
      "Requirement already satisfied: pyyaml>=5.1 in c:\\users\\dell\\anaconda3\\lib\\site-packages (from transformers) (6.0)\n",
      "Requirement already satisfied: typing-extensions>=3.7.4.3 in c:\\users\\dell\\anaconda3\\lib\\site-packages (from huggingface-hub<1.0,>=0.23.0->transformers) (4.3.0)\n",
      "Requirement already satisfied: fsspec>=2023.5.0 in c:\\users\\dell\\anaconda3\\lib\\site-packages (from huggingface-hub<1.0,>=0.23.0->transformers) (2024.5.0)\n",
      "Requirement already satisfied: pyparsing!=3.0.5,>=2.0.2 in c:\\users\\dell\\anaconda3\\lib\\site-packages (from packaging>=20.0->transformers) (3.0.9)\n",
      "Requirement already satisfied: colorama in c:\\users\\dell\\anaconda3\\lib\\site-packages (from tqdm>=4.27->transformers) (0.4.5)\n",
      "Requirement already satisfied: urllib3<1.27,>=1.21.1 in c:\\users\\dell\\anaconda3\\lib\\site-packages (from requests->transformers) (1.26.11)\n",
      "Requirement already satisfied: idna<4,>=2.5 in c:\\users\\dell\\anaconda3\\lib\\site-packages (from requests->transformers) (3.3)\n",
      "Requirement already satisfied: charset-normalizer<3,>=2 in c:\\users\\dell\\anaconda3\\lib\\site-packages (from requests->transformers) (2.0.4)\n",
      "Requirement already satisfied: certifi>=2017.4.17 in c:\\users\\dell\\anaconda3\\lib\\site-packages (from requests->transformers) (2022.9.14)\n"
     ]
    }
   ],
   "source": [
    "!pip install transformers\n"
   ]
  },
  {
   "cell_type": "code",
   "execution_count": 2,
   "id": "25f12e7d",
   "metadata": {},
   "outputs": [
    {
     "name": "stdout",
     "output_type": "stream",
     "text": [
      "Collecting tf-keras\n",
      "  Downloading tf_keras-2.16.0-py3-none-any.whl (1.7 MB)\n",
      "     ---------------------------------------- 1.7/1.7 MB 2.4 MB/s eta 0:00:00\n",
      "Requirement already satisfied: tensorflow<2.17,>=2.16 in c:\\users\\dell\\anaconda3\\lib\\site-packages (from tf-keras) (2.16.1)\n",
      "Requirement already satisfied: tensorflow-intel==2.16.1 in c:\\users\\dell\\anaconda3\\lib\\site-packages (from tensorflow<2.17,>=2.16->tf-keras) (2.16.1)\n",
      "Requirement already satisfied: astunparse>=1.6.0 in c:\\users\\dell\\anaconda3\\lib\\site-packages (from tensorflow-intel==2.16.1->tensorflow<2.17,>=2.16->tf-keras) (1.6.3)\n",
      "Requirement already satisfied: tensorflow-io-gcs-filesystem>=0.23.1 in c:\\users\\dell\\anaconda3\\lib\\site-packages (from tensorflow-intel==2.16.1->tensorflow<2.17,>=2.16->tf-keras) (0.31.0)\n",
      "Requirement already satisfied: packaging in c:\\users\\dell\\anaconda3\\lib\\site-packages (from tensorflow-intel==2.16.1->tensorflow<2.17,>=2.16->tf-keras) (21.3)\n",
      "Requirement already satisfied: libclang>=13.0.0 in c:\\users\\dell\\anaconda3\\lib\\site-packages (from tensorflow-intel==2.16.1->tensorflow<2.17,>=2.16->tf-keras) (18.1.1)\n",
      "Requirement already satisfied: google-pasta>=0.1.1 in c:\\users\\dell\\anaconda3\\lib\\site-packages (from tensorflow-intel==2.16.1->tensorflow<2.17,>=2.16->tf-keras) (0.2.0)\n",
      "Requirement already satisfied: tensorboard<2.17,>=2.16 in c:\\users\\dell\\anaconda3\\lib\\site-packages (from tensorflow-intel==2.16.1->tensorflow<2.17,>=2.16->tf-keras) (2.16.2)\n",
      "Requirement already satisfied: setuptools in c:\\users\\dell\\anaconda3\\lib\\site-packages (from tensorflow-intel==2.16.1->tensorflow<2.17,>=2.16->tf-keras) (63.4.1)\n",
      "Requirement already satisfied: typing-extensions>=3.6.6 in c:\\users\\dell\\anaconda3\\lib\\site-packages (from tensorflow-intel==2.16.1->tensorflow<2.17,>=2.16->tf-keras) (4.3.0)\n",
      "Requirement already satisfied: gast!=0.5.0,!=0.5.1,!=0.5.2,>=0.2.1 in c:\\users\\dell\\anaconda3\\lib\\site-packages (from tensorflow-intel==2.16.1->tensorflow<2.17,>=2.16->tf-keras) (0.5.4)\n",
      "Requirement already satisfied: termcolor>=1.1.0 in c:\\users\\dell\\anaconda3\\lib\\site-packages (from tensorflow-intel==2.16.1->tensorflow<2.17,>=2.16->tf-keras) (2.4.0)\n",
      "Requirement already satisfied: six>=1.12.0 in c:\\users\\dell\\anaconda3\\lib\\site-packages (from tensorflow-intel==2.16.1->tensorflow<2.17,>=2.16->tf-keras) (1.16.0)\n",
      "Requirement already satisfied: grpcio<2.0,>=1.24.3 in c:\\users\\dell\\anaconda3\\lib\\site-packages (from tensorflow-intel==2.16.1->tensorflow<2.17,>=2.16->tf-keras) (1.62.1)\n",
      "Requirement already satisfied: absl-py>=1.0.0 in c:\\users\\dell\\anaconda3\\lib\\site-packages (from tensorflow-intel==2.16.1->tensorflow<2.17,>=2.16->tf-keras) (2.1.0)\n",
      "Requirement already satisfied: wrapt>=1.11.0 in c:\\users\\dell\\anaconda3\\lib\\site-packages (from tensorflow-intel==2.16.1->tensorflow<2.17,>=2.16->tf-keras) (1.14.1)\n",
      "Requirement already satisfied: keras>=3.0.0 in c:\\users\\dell\\anaconda3\\lib\\site-packages (from tensorflow-intel==2.16.1->tensorflow<2.17,>=2.16->tf-keras) (3.1.1)\n",
      "Requirement already satisfied: numpy<2.0.0,>=1.23.5 in c:\\users\\dell\\anaconda3\\lib\\site-packages (from tensorflow-intel==2.16.1->tensorflow<2.17,>=2.16->tf-keras) (1.26.4)\n",
      "Requirement already satisfied: h5py>=3.10.0 in c:\\users\\dell\\anaconda3\\lib\\site-packages (from tensorflow-intel==2.16.1->tensorflow<2.17,>=2.16->tf-keras) (3.10.0)\n",
      "Requirement already satisfied: protobuf!=4.21.0,!=4.21.1,!=4.21.2,!=4.21.3,!=4.21.4,!=4.21.5,<5.0.0dev,>=3.20.3 in c:\\users\\dell\\anaconda3\\lib\\site-packages (from tensorflow-intel==2.16.1->tensorflow<2.17,>=2.16->tf-keras) (4.25.3)\n",
      "Requirement already satisfied: requests<3,>=2.21.0 in c:\\users\\dell\\anaconda3\\lib\\site-packages (from tensorflow-intel==2.16.1->tensorflow<2.17,>=2.16->tf-keras) (2.28.1)\n",
      "Requirement already satisfied: ml-dtypes~=0.3.1 in c:\\users\\dell\\anaconda3\\lib\\site-packages (from tensorflow-intel==2.16.1->tensorflow<2.17,>=2.16->tf-keras) (0.3.2)\n",
      "Requirement already satisfied: opt-einsum>=2.3.2 in c:\\users\\dell\\anaconda3\\lib\\site-packages (from tensorflow-intel==2.16.1->tensorflow<2.17,>=2.16->tf-keras) (3.3.0)\n",
      "Requirement already satisfied: flatbuffers>=23.5.26 in c:\\users\\dell\\anaconda3\\lib\\site-packages (from tensorflow-intel==2.16.1->tensorflow<2.17,>=2.16->tf-keras) (24.3.25)\n",
      "Requirement already satisfied: wheel<1.0,>=0.23.0 in c:\\users\\dell\\anaconda3\\lib\\site-packages (from astunparse>=1.6.0->tensorflow-intel==2.16.1->tensorflow<2.17,>=2.16->tf-keras) (0.37.1)\n",
      "Requirement already satisfied: optree in c:\\users\\dell\\anaconda3\\lib\\site-packages (from keras>=3.0.0->tensorflow-intel==2.16.1->tensorflow<2.17,>=2.16->tf-keras) (0.11.0)\n",
      "Requirement already satisfied: rich in c:\\users\\dell\\anaconda3\\lib\\site-packages (from keras>=3.0.0->tensorflow-intel==2.16.1->tensorflow<2.17,>=2.16->tf-keras) (13.7.1)\n",
      "Requirement already satisfied: namex in c:\\users\\dell\\anaconda3\\lib\\site-packages (from keras>=3.0.0->tensorflow-intel==2.16.1->tensorflow<2.17,>=2.16->tf-keras) (0.0.7)\n",
      "Requirement already satisfied: charset-normalizer<3,>=2 in c:\\users\\dell\\anaconda3\\lib\\site-packages (from requests<3,>=2.21.0->tensorflow-intel==2.16.1->tensorflow<2.17,>=2.16->tf-keras) (2.0.4)\n",
      "Requirement already satisfied: certifi>=2017.4.17 in c:\\users\\dell\\anaconda3\\lib\\site-packages (from requests<3,>=2.21.0->tensorflow-intel==2.16.1->tensorflow<2.17,>=2.16->tf-keras) (2022.9.14)\n",
      "Requirement already satisfied: idna<4,>=2.5 in c:\\users\\dell\\anaconda3\\lib\\site-packages (from requests<3,>=2.21.0->tensorflow-intel==2.16.1->tensorflow<2.17,>=2.16->tf-keras) (3.3)\n",
      "Requirement already satisfied: urllib3<1.27,>=1.21.1 in c:\\users\\dell\\anaconda3\\lib\\site-packages (from requests<3,>=2.21.0->tensorflow-intel==2.16.1->tensorflow<2.17,>=2.16->tf-keras) (1.26.11)\n",
      "Requirement already satisfied: markdown>=2.6.8 in c:\\users\\dell\\anaconda3\\lib\\site-packages (from tensorboard<2.17,>=2.16->tensorflow-intel==2.16.1->tensorflow<2.17,>=2.16->tf-keras) (3.3.4)\n",
      "Requirement already satisfied: tensorboard-data-server<0.8.0,>=0.7.0 in c:\\users\\dell\\anaconda3\\lib\\site-packages (from tensorboard<2.17,>=2.16->tensorflow-intel==2.16.1->tensorflow<2.17,>=2.16->tf-keras) (0.7.2)\n",
      "Requirement already satisfied: werkzeug>=1.0.1 in c:\\users\\dell\\anaconda3\\lib\\site-packages (from tensorboard<2.17,>=2.16->tensorflow-intel==2.16.1->tensorflow<2.17,>=2.16->tf-keras) (2.0.3)\n",
      "Requirement already satisfied: pyparsing!=3.0.5,>=2.0.2 in c:\\users\\dell\\anaconda3\\lib\\site-packages (from packaging->tensorflow-intel==2.16.1->tensorflow<2.17,>=2.16->tf-keras) (3.0.9)\n",
      "Requirement already satisfied: pygments<3.0.0,>=2.13.0 in c:\\users\\dell\\anaconda3\\lib\\site-packages (from rich->keras>=3.0.0->tensorflow-intel==2.16.1->tensorflow<2.17,>=2.16->tf-keras) (2.17.2)\n",
      "Requirement already satisfied: markdown-it-py>=2.2.0 in c:\\users\\dell\\anaconda3\\lib\\site-packages (from rich->keras>=3.0.0->tensorflow-intel==2.16.1->tensorflow<2.17,>=2.16->tf-keras) (3.0.0)\n",
      "Requirement already satisfied: mdurl~=0.1 in c:\\users\\dell\\anaconda3\\lib\\site-packages (from markdown-it-py>=2.2.0->rich->keras>=3.0.0->tensorflow-intel==2.16.1->tensorflow<2.17,>=2.16->tf-keras) (0.1.2)\n",
      "Installing collected packages: tf-keras\n",
      "Successfully installed tf-keras-2.16.0\n"
     ]
    }
   ],
   "source": [
    "!pip install tf-keras"
   ]
  },
  {
   "cell_type": "code",
   "execution_count": 3,
   "id": "8e339c9a",
   "metadata": {},
   "outputs": [],
   "source": [
    "import pandas as pd\n",
    "\n",
    "# Extracted words from aspect extraction\n",
    "extracted_words = [\n",
    "['if', 'you', 'want', 'me', 'to', 'listen', 'to', 'you', 'respect', 'that', 'i', 'can', 'hear', 'if', 'you', 'want', 'me', 'to', 'speak', 'to', 'you', 'respect', 'that', 'i', 'have', 'a', 'voice', 'if', 'you', 'want', 'me', 'to', 'look', 'at', 'you', 'respect', 'my', 'ability', 'to', 'see', 'do', 'you', 'know', 'how', 'to', 'do', 'that', 'listen', 'to', 'me', 'when', 'i', 'talk', 'talk', 'to', 'me', 'when', 'you', 'hear', 'me', 'and', 'look', 'at', 'me', 'when', 'i', 'look', 'at', 'you', 'share', 'me', 'not', 'only', 'your', 'sadness', 'but', 'also', 'your', 'happiness', 'if', 'i', 'can', 'bear', 'hours', 'of', 'your', 'sadness', 'believe', 'me', 'its', 'because', 'i', 'would', 'like', 'to', 'see', 'days', 'of', 'your', 'happiness', 'depend', 'on', 'me', 'if', 'you', 'respect', 'that', 'i', 'am', 'worthy', 'of', 'your', 'trust', 'open', 'your', 'heart', 'to', 'me', 'if', 'you', 'respect', 'that', 'i', 'am', 'worthy', 'of', 'your', 'love'],\n",
    "['i', 'appreciate', 'a', 'genuine', 'effort', 'over', 'a', 'fake', 'attempt', 'to', 'gain', 'my', 'trust', 'the', 'clouds', 'overtake', 'the', 'sky', 'for', 'a', 'little', 'while', 'but', 'the', 'sun', 'always', 'strikes', 'through'],\n",
    "['whatever', 'you', 'do', 'do', 'it', 'with', 'purpose', 'being', 'focused', 'is', 'not', 'something', 'to', 'be', 'ashamed', 'of', 'it', 'is', 'something', 'to', 'be', 'proud', 'of', 'when', 'you', 'know', 'what', 'you', 'are', 'doing', 'and', 'have', 'a', 'clear', 'vision', 'of', 'where', 'you', 'are', 'going', 'you', 'will', 'not', 'need', 'to', 'chase', 'opportunities', 'opportunities', 'will', 'seek', 'you', 'happiness', 'will', 'chase', 'you', 'and', 'instead', 'of', 'being', 'a', 'choice', 'you', 'will', 'be', 'the', 'one', 'choosing'],\n",
    "['own', 'my', 'heart', 'with', 'your', 'respect', 'free', 'me', 'from', 'your', 'deceit', 'captivate', 'me', 'with', 'your', 'honesty', 'rid', 'me', 'of', 'your', 'uncertainty', 'challenge', 'me', 'with', 'your', 'thoughts', 'enslave', 'me', 'with', 'your', 'genuineness', 'impress', 'me', 'with', 'your', 'spontaneity', 'treat', 'me', 'right', 'and', 'i', 'will', 'treat', 'you', 'better', 'keep', 'me', 'away', 'from', 'what', 'i', 'dont', 'deserve', 'and', 'i', 'will', 'bring', 'you', 'closer', 'to', 'what', 'you', 'deserve', 'respect', 'me', 'be', 'honest', 'with', 'me', 'i', 'will', 'give', 'you', 'nothing', 'but', 'multiples', 'of', 'that', 'in', 'return'],\n",
    "['dont', 'rely', 'on', 'others', 'to', 'make', 'your', 'life', 'better', 'you', 'may', 'seem', 'like', 'a', 'puzzle', 'piece', 'that', 'fits', 'nicely', 'into', 'their', 'plans', 'at', 'one', 'point', 'but', 'what', 'happens', 'if', 'they', 'change', 'their', 'minds', 'so', 'be', 'it', 'you', 'have', 'a', 'mind', 'to', 'lead', 'you', 'by', 'logic', 'and', 'a', 'heart', 'to', 'lead', 'you', 'by', 'reason', 'you', 'choose', 'your', 'fate', 'by', 'taking', 'responsibility', 'and', 'by', 'taking', 'the', 'lead', 'in', 'your', 'life', 'dont', 'make', 'yourself', 'part', 'of', 'others', 'plans', 'make', 'your', 'own', 'plan', 'and', 'be', 'part', 'of', 'it'],\n",
    "['beautiful', 'hearts', 'are', 'hard', 'to', 'find', 'and', 'to', 'reward', 'them', 'when', 'we', 'do', 'find', 'them', 'we', 'convince', 'ourselves', 'that', 'theyre', 'too', 'good', 'for', 'us', 'what', 'a', 'reward', 'instead', 'of', 'holding', 'onto', 'them', 'we', 'pull', 'ourselves', 'away', 'we', 'push', 'them', 'away', 'we', 'forget', 'that', 'the', 'beauty', 'of', 'their', 'hearts', 'comes', 'from', 'their', 'ability', 'to', 'love', 'and', 'from', 'their', 'willingness', 'to', 'liberate', 'those', 'whose', 'hearts', 'have', 'caged', 'themselves', 'in', 'the', 'past'],\n",
    "['i', 'can', 'point', 'you', 'towards', 'the', 'sky', 'but', 'i', 'cant', 'make', 'you', 'reach', 'for', 'the', 'stars', 'i', 'can', 'show', 'you', 'the', 'moon', 'but', 'i', 'cant', 'make', 'you', 'feel', 'its', 'beauty', 'or', 'appreciate', 'its', 'light', 'i', 'can', 'show', 'you', 'the', 'pathways', 'that', 'you', 'can', 'take', 'but', 'i', 'cant', 'make', 'you', 'walk', 'down', 'them', 'i', 'can', 'extend', 'my', 'hand', 'to', 'help', 'you', 'but', 'i', 'cant', 'make', 'you', 'hold', 'it', 'back', 'i', 'can', 'tell', 'you', 'the', 'truth', 'but', 'i', 'cant', 'make', 'you', 'believe', 'it', 'i', 'can', 'tell', 'you', 'how', 'i', 'feel', 'but', 'i', 'cant', 'make', 'you', 'care'],\n",
    "['dont', 'tell', 'me', 'what', 'i', 'want', 'to', 'hear', 'tell', 'me', 'the', 'truth', 'it', 'may', 'hurt', 'but', 'it', 'definitely', 'wont', 'hurt', 'more', 'than', 'the', 'feeling', 'that', 'i', 'was', 'told', 'something', 'out', 'of', 'pity', 'not', 'out', 'of', 'honesty', 'if', 'you', 'mean', 'it', 'say', 'it', 'if', 'you', 'dont', 'keep', 'your', 'words', 'until', 'the', 'right', 'person', 'is', 'standing', 'in', 'front', 'of', 'you', 'if', 'words', 'are', 'said', 'too', 'many', 'times', 'they', 'become', 'cheap', 'and', 'i', 'only', 'deserve', 'to', 'hear', 'what', 'is', 'valuable'],\n",
    "['have', 'you', 'ever', 'seen', 'a', 'thirsty', 'ocean', 'or', 'air', 'grasping', 'for', 'breath', 'has', 'it', 'ever', 'seemed', 'that', 'the', 'sky', 'wanted', 'to', 'stretch', 'out', 'more', 'or', 'that', 'the', 'rainbow', 'wanted', 'more', 'colors', 'before', 'you', 'ask', 'for', 'something', 'look', 'at', 'what', 'you', 'already', 'have', 'dont', 'ask', 'for', 'more', 'than', 'you', 'need', 'dont', 'let', 'your', 'want', 'replace', 'your', 'need', 'because', 'a', 'day', 'will', 'come', 'when', 'you', 'will', 'lose', 'what', 'you', 'need', 'to', 'get', 'what', 'you', 'want'],\n",
    "['if', 'my', 'heart', 'could', 'speak', 'it', 'would', 'need', 'a', 'whole', 'new', 'language', 'to', 'express', 'the', 'way', 'i', 'feel', 'if', 'my', 'heart', 'could', 'create', 'a', 'piece', 'of', 'art', 'artists', 'could', 'not', 'handle', 'the', 'power', 'of', 'its', 'feelings', 'if', 'my', 'heart', 'could', 'sing', 'composers', 'would', 'not', 'be', 'able', 'to', 'put', 'together', 'its', 'symphony', 'the', 'softest', 'ever', 'made', 'if', 'my', 'heart', 'could', 'smile', 'it', 'would', 'flutter', 'out', 'of', 'my', 'chest', 'and', 'into', 'my', 'eyes', 'to', 'see', 'the', 'world', 'with', 'a', 'touch', 'of', 'beauty', 'and', 'a', 'hint', 'of', 'joy'],\n",
    "['sometimes', 'its', 'more', 'important', 'to', 'figure', 'out', 'where', 'you', 'are', 'than', 'to', 'decide', 'where', 'youre', 'going', 'if', 'you', 'dont', 'know', 'where', 'you', 'are', 'how', 'do', 'you', 'expect', 'to', 'know', 'your', 'destination', 'we', 'often', 'rush', 'to', 'our', 'next', 'goal', 'forgetting', 'what', 'we', 'are', 'leaving', 'behind', 'forgetting', 'those', 'we', 'are', 'leaving', 'behind', 'we', 'forget', 'that', 'happiness', 'is', 'a', 'journey', 'not', 'a', 'destination', 'we', 'forget', 'that', 'tomorrow', 'would', 'not', 'exist', 'without', 'today', 'and', 'that', 'today', 'would', 'not', 'be', 'what', 'it', 'is', 'without', 'who', 'we', 'are', 'and', 'what', 'we', 'have'],\n",
    "['treasures', 'are', 'sought', 'because', 'they', 'are', 'unique', 'they', 'are', 'different', 'they', 'are', 'timeless', 'despite', 'the', 'time', 'that', 'passes', 'after', 'they', 'come', 'to', 'existence', 'they', 'are', 'not', 'easily', 'found', 'because', 'to', 'get', 'to', 'them', 'one', 'must', 'work', 'hard', 'one', 'must', 'dig', 'deep', 'one', 'must', 'appreciate', 'the', 'value', 'at', 'hand', 'you', 'are', 'deep', 'you', 'are', 'valuable', 'so', 'let', 'others', 'dig', 'you', 'up'],\n",
    "['the', 'first', 'obstacle', 'to', 'change', 'is', 'feeling', 'the', 'need', 'to', 'give', 'those', 'around', 'you', 'an', 'excuse', 'you', 'dont', 'have', 'to', 'explain', 'but', 'its', 'okay', 'if', 'you', 'do', 'most', 'likely', 'it', 'is', 'those', 'around', 'you', 'who', 'have', 'made', 'you', 'realize', 'that', 'you', 'need', 'to', 'change', 'so', 'why', 'would', 'you', 'explain', 'would', 'you', 'explain', 'to', 'someone', 'why', 'youre', 'watering', 'a', 'withering', 'flower', 'would', 'you', 'explain', 'why', 'youre', 'feeding', 'a', 'hungry', 'person', 'would', 'you', 'explain', 'why', 'youre', 'breathing', 'you', 'dont', 'need', 'to', 'explain', 'why', 'youre', 'protecting', 'your', 'soul', 'from', 'harm', 'you', 'really', 'dont'],\n",
    "['have', 'that', 'wise', 'instinct', 'of', 'knowing', 'how', 'you', 'would', 'react', 'in', 'certain', 'situations', 'before', 'they', 'happen', 'so', 'that', 'you', 'can', 'be', 'wellprepared', 'to', 'react', 'wisely', 'notice', 'patterns', 'in', 'your', 'behavior', 'and', 'the', 'way', 'you', 'react', 'in', 'unexpected', 'situations', 'so', 'that', 'you', 'may', 'prepare', 'yourself', 'to', 'react', 'better', 'the', 'next', 'time', 'once', 'you', 'master', 'yourself', 'impossible', 'will', 'no', 'longer', 'stand', 'in', 'the', 'way', 'of', 'your', 'dreams'],\n",
    "['there', 'are', 'so', 'many', 'thoughts', 'that', 'would', 'be', 'much', 'more', 'beautiful', 'if', 'they', 'were', 'just', 'kept', 'as', 'thoughts', 'words', 'sometimes', 'dont', 'do', 'justice', 'to', 'our', 'thoughts', 'and', 'feelings', 'they', 'are', 'better', 'kept', 'inside', 'to', 'last', 'a', 'while', 'rather', 'than', 'said', 'and', 'forgotten', 'every', 'thought', 'has', 'the', 'right', 'time', 'to', 'be', 'verbalized', 'and', 'every', 'feeling', 'has', 'the', 'right', 'time', 'to', 'be', 'expressed', 'meanwhile', 'enjoy', 'the', 'thought', 'enjoy', 'the', 'feeling', 'and', 'give', 'them', 'the', 'time', 'they', 'deserve', 'to', 'be', 'as', 'strong', 'as', 'you', 'want', 'them', 'to', 'be']\n",
    "]\n",
    "\n",
    "# Create a DataFrame to store the extracted words\n",
    "df = pd.DataFrame(extracted_words, columns=['Word {}'.format(i+1) for i in range(len(extracted_words[0]))])\n",
    "\n",
    "# Save the DataFrame to a CSV file\n",
    "df.to_csv('extracted_words.csv', index=False)"
   ]
  },
  {
   "cell_type": "code",
   "execution_count": 5,
   "id": "4f5471b0",
   "metadata": {
    "scrolled": true
   },
   "outputs": [
    {
     "name": "stdout",
     "output_type": "stream",
     "text": [
      "Collecting textblob\n",
      "  Downloading textblob-0.18.0.post0-py3-none-any.whl (626 kB)\n",
      "     -------------------------------------- 626.3/626.3 kB 1.0 MB/s eta 0:00:00\n",
      "Collecting nltk>=3.8\n",
      "  Downloading nltk-3.8.1-py3-none-any.whl (1.5 MB)\n",
      "     ---------------------------------------- 1.5/1.5 MB 3.8 MB/s eta 0:00:00\n",
      "Requirement already satisfied: regex>=2021.8.3 in c:\\users\\dell\\anaconda3\\lib\\site-packages (from nltk>=3.8->textblob) (2022.7.9)\n",
      "Requirement already satisfied: tqdm in c:\\users\\dell\\anaconda3\\lib\\site-packages (from nltk>=3.8->textblob) (4.64.1)\n",
      "Requirement already satisfied: joblib in c:\\users\\dell\\anaconda3\\lib\\site-packages (from nltk>=3.8->textblob) (1.1.0)\n",
      "Requirement already satisfied: click in c:\\users\\dell\\anaconda3\\lib\\site-packages (from nltk>=3.8->textblob) (8.0.4)\n",
      "Requirement already satisfied: colorama in c:\\users\\dell\\anaconda3\\lib\\site-packages (from click->nltk>=3.8->textblob) (0.4.5)\n",
      "Installing collected packages: nltk, textblob\n",
      "  Attempting uninstall: nltk\n",
      "    Found existing installation: nltk 3.7\n",
      "    Uninstalling nltk-3.7:\n",
      "      Successfully uninstalled nltk-3.7\n",
      "Successfully installed nltk-3.8.1 textblob-0.18.0.post0\n"
     ]
    }
   ],
   "source": [
    "!pip install textblob"
   ]
  },
  {
   "cell_type": "markdown",
   "id": "f391b91f",
   "metadata": {},
   "source": [
    "# SENTIMENT ANALYSIS"
   ]
  },
  {
   "cell_type": "code",
   "execution_count": 4,
   "id": "1e20f38a",
   "metadata": {},
   "outputs": [
    {
     "ename": "PermissionError",
     "evalue": "[Errno 13] Permission denied: 'sentiment_analysis_results.csv'",
     "output_type": "error",
     "traceback": [
      "\u001b[1;31m---------------------------------------------------------------------------\u001b[0m",
      "\u001b[1;31mPermissionError\u001b[0m                           Traceback (most recent call last)",
      "\u001b[1;32m~\\AppData\\Local\\Temp\\ipykernel_15352\\1658059308.py\u001b[0m in \u001b[0;36m<module>\u001b[1;34m\u001b[0m\n\u001b[0;32m      8\u001b[0m     \u001b[1;32mreturn\u001b[0m \u001b[0msentiment\u001b[0m\u001b[1;33m\u001b[0m\u001b[1;33m\u001b[0m\u001b[0m\n\u001b[0;32m      9\u001b[0m \u001b[0mdf\u001b[0m\u001b[1;33m[\u001b[0m\u001b[1;34m'Sentiments'\u001b[0m\u001b[1;33m]\u001b[0m \u001b[1;33m=\u001b[0m \u001b[0mdf\u001b[0m\u001b[1;33m.\u001b[0m\u001b[0mapply\u001b[0m\u001b[1;33m(\u001b[0m\u001b[1;32mlambda\u001b[0m \u001b[0mrow\u001b[0m\u001b[1;33m:\u001b[0m \u001b[1;33m[\u001b[0m\u001b[0manalyze_sentiment\u001b[0m\u001b[1;33m(\u001b[0m\u001b[0mword\u001b[0m\u001b[1;33m)\u001b[0m \u001b[1;32mfor\u001b[0m \u001b[0mword\u001b[0m \u001b[1;32min\u001b[0m \u001b[0mrow\u001b[0m\u001b[1;33m]\u001b[0m\u001b[1;33m,\u001b[0m \u001b[0maxis\u001b[0m\u001b[1;33m=\u001b[0m\u001b[1;36m1\u001b[0m\u001b[1;33m)\u001b[0m\u001b[1;33m\u001b[0m\u001b[1;33m\u001b[0m\u001b[0m\n\u001b[1;32m---> 10\u001b[1;33m \u001b[0mdf\u001b[0m\u001b[1;33m.\u001b[0m\u001b[0mto_csv\u001b[0m\u001b[1;33m(\u001b[0m\u001b[1;34m'sentiment_analysis_results.csv'\u001b[0m\u001b[1;33m,\u001b[0m \u001b[0mindex\u001b[0m\u001b[1;33m=\u001b[0m\u001b[1;32mFalse\u001b[0m\u001b[1;33m)\u001b[0m\u001b[1;33m\u001b[0m\u001b[1;33m\u001b[0m\u001b[0m\n\u001b[0m",
      "\u001b[1;32m~\\anaconda3\\lib\\site-packages\\pandas\\core\\generic.py\u001b[0m in \u001b[0;36mto_csv\u001b[1;34m(self, path_or_buf, sep, na_rep, float_format, columns, header, index, index_label, mode, encoding, compression, quoting, quotechar, line_terminator, chunksize, date_format, doublequote, escapechar, decimal, errors, storage_options)\u001b[0m\n\u001b[0;32m   3549\u001b[0m         )\n\u001b[0;32m   3550\u001b[0m \u001b[1;33m\u001b[0m\u001b[0m\n\u001b[1;32m-> 3551\u001b[1;33m         return DataFrameRenderer(formatter).to_csv(\n\u001b[0m\u001b[0;32m   3552\u001b[0m             \u001b[0mpath_or_buf\u001b[0m\u001b[1;33m,\u001b[0m\u001b[1;33m\u001b[0m\u001b[1;33m\u001b[0m\u001b[0m\n\u001b[0;32m   3553\u001b[0m             \u001b[0mline_terminator\u001b[0m\u001b[1;33m=\u001b[0m\u001b[0mline_terminator\u001b[0m\u001b[1;33m,\u001b[0m\u001b[1;33m\u001b[0m\u001b[1;33m\u001b[0m\u001b[0m\n",
      "\u001b[1;32m~\\anaconda3\\lib\\site-packages\\pandas\\io\\formats\\format.py\u001b[0m in \u001b[0;36mto_csv\u001b[1;34m(self, path_or_buf, encoding, sep, columns, index_label, mode, compression, quoting, quotechar, line_terminator, chunksize, date_format, doublequote, escapechar, errors, storage_options)\u001b[0m\n\u001b[0;32m   1178\u001b[0m             \u001b[0mformatter\u001b[0m\u001b[1;33m=\u001b[0m\u001b[0mself\u001b[0m\u001b[1;33m.\u001b[0m\u001b[0mfmt\u001b[0m\u001b[1;33m,\u001b[0m\u001b[1;33m\u001b[0m\u001b[1;33m\u001b[0m\u001b[0m\n\u001b[0;32m   1179\u001b[0m         )\n\u001b[1;32m-> 1180\u001b[1;33m         \u001b[0mcsv_formatter\u001b[0m\u001b[1;33m.\u001b[0m\u001b[0msave\u001b[0m\u001b[1;33m(\u001b[0m\u001b[1;33m)\u001b[0m\u001b[1;33m\u001b[0m\u001b[1;33m\u001b[0m\u001b[0m\n\u001b[0m\u001b[0;32m   1181\u001b[0m \u001b[1;33m\u001b[0m\u001b[0m\n\u001b[0;32m   1182\u001b[0m         \u001b[1;32mif\u001b[0m \u001b[0mcreated_buffer\u001b[0m\u001b[1;33m:\u001b[0m\u001b[1;33m\u001b[0m\u001b[1;33m\u001b[0m\u001b[0m\n",
      "\u001b[1;32m~\\anaconda3\\lib\\site-packages\\pandas\\io\\formats\\csvs.py\u001b[0m in \u001b[0;36msave\u001b[1;34m(self)\u001b[0m\n\u001b[0;32m    239\u001b[0m         \"\"\"\n\u001b[0;32m    240\u001b[0m         \u001b[1;31m# apply compression and byte/text conversion\u001b[0m\u001b[1;33m\u001b[0m\u001b[1;33m\u001b[0m\u001b[0m\n\u001b[1;32m--> 241\u001b[1;33m         with get_handle(\n\u001b[0m\u001b[0;32m    242\u001b[0m             \u001b[0mself\u001b[0m\u001b[1;33m.\u001b[0m\u001b[0mfilepath_or_buffer\u001b[0m\u001b[1;33m,\u001b[0m\u001b[1;33m\u001b[0m\u001b[1;33m\u001b[0m\u001b[0m\n\u001b[0;32m    243\u001b[0m             \u001b[0mself\u001b[0m\u001b[1;33m.\u001b[0m\u001b[0mmode\u001b[0m\u001b[1;33m,\u001b[0m\u001b[1;33m\u001b[0m\u001b[1;33m\u001b[0m\u001b[0m\n",
      "\u001b[1;32m~\\anaconda3\\lib\\site-packages\\pandas\\io\\common.py\u001b[0m in \u001b[0;36mget_handle\u001b[1;34m(path_or_buf, mode, encoding, compression, memory_map, is_text, errors, storage_options)\u001b[0m\n\u001b[0;32m    784\u001b[0m         \u001b[1;32mif\u001b[0m \u001b[0mioargs\u001b[0m\u001b[1;33m.\u001b[0m\u001b[0mencoding\u001b[0m \u001b[1;32mand\u001b[0m \u001b[1;34m\"b\"\u001b[0m \u001b[1;32mnot\u001b[0m \u001b[1;32min\u001b[0m \u001b[0mioargs\u001b[0m\u001b[1;33m.\u001b[0m\u001b[0mmode\u001b[0m\u001b[1;33m:\u001b[0m\u001b[1;33m\u001b[0m\u001b[1;33m\u001b[0m\u001b[0m\n\u001b[0;32m    785\u001b[0m             \u001b[1;31m# Encoding\u001b[0m\u001b[1;33m\u001b[0m\u001b[1;33m\u001b[0m\u001b[0m\n\u001b[1;32m--> 786\u001b[1;33m             handle = open(\n\u001b[0m\u001b[0;32m    787\u001b[0m                 \u001b[0mhandle\u001b[0m\u001b[1;33m,\u001b[0m\u001b[1;33m\u001b[0m\u001b[1;33m\u001b[0m\u001b[0m\n\u001b[0;32m    788\u001b[0m                 \u001b[0mioargs\u001b[0m\u001b[1;33m.\u001b[0m\u001b[0mmode\u001b[0m\u001b[1;33m,\u001b[0m\u001b[1;33m\u001b[0m\u001b[1;33m\u001b[0m\u001b[0m\n",
      "\u001b[1;31mPermissionError\u001b[0m: [Errno 13] Permission denied: 'sentiment_analysis_results.csv'"
     ]
    }
   ],
   "source": [
    "import pandas as pd\n",
    "from textblob import TextBlob\n",
    "df = pd.read_csv('extracted_words.csv')\n",
    "def analyze_sentiment(text):\n",
    "    blob = TextBlob(str(text))\n",
    "    sentiment_score = blob.sentiment.polarity\n",
    "    sentiment = \"positive\" if sentiment_score > 0 else \"negative\" if sentiment_score < 0 else \"neutral\"\n",
    "    return sentiment\n",
    "df['Sentiments'] = df.apply(lambda row: [analyze_sentiment(word) for word in row], axis=1)\n",
    "df.to_csv('sentiment_analysis_results.csv', index=False)\n"
   ]
  },
  {
   "cell_type": "markdown",
   "id": "4f217710",
   "metadata": {},
   "source": [
    "# TESTING"
   ]
  },
  {
   "cell_type": "code",
   "execution_count": 9,
   "id": "38054903",
   "metadata": {},
   "outputs": [
    {
     "name": "stdout",
     "output_type": "stream",
     "text": [
      "[{'Text': 'I hate the way the author expresses emotions in this book.', 'Preprocessed_Text': 'i hate the way the author expresses emotions in this book', 'Sentiment': 'negative'}, {'Text': \"The book's writing style is very captivating and engaging.\", 'Preprocessed_Text': 'the books writing style is very captivating and engaging', 'Sentiment': 'positive'}]\n"
     ]
    }
   ],
   "source": [
    "# Function to test model with unseen data\n",
    "def test_model(test_texts):\n",
    "    results = []\n",
    "    for text in test_texts:\n",
    "        preprocessed_text = preprocess_text(text)\n",
    "        sentiment = analyze_sentiment(' '.join(preprocessed_text))\n",
    "        results.append({\n",
    "            'Text': text,\n",
    "            'Preprocessed_Text': ' '.join(preprocessed_text),\n",
    "            'Sentiment': sentiment\n",
    "        })\n",
    "    return results\n",
    "\n",
    "# Example unseen test data\n",
    "test_texts = [\n",
    "    \"I hate the way the author expresses emotions in this book.\",\n",
    "    \"The book's writing style is very captivating and engaging.\"\n",
    "]\n",
    "\n",
    "# Test the model\n",
    "test_results = test_model(test_texts)\n",
    "print(test_results)\n"
   ]
  },
  {
   "cell_type": "code",
   "execution_count": null,
   "id": "f588dc55",
   "metadata": {},
   "outputs": [],
   "source": []
  }
 ],
 "metadata": {
  "kernelspec": {
   "display_name": "Python 3 (ipykernel)",
   "language": "python",
   "name": "python3"
  },
  "language_info": {
   "codemirror_mode": {
    "name": "ipython",
    "version": 3
   },
   "file_extension": ".py",
   "mimetype": "text/x-python",
   "name": "python",
   "nbconvert_exporter": "python",
   "pygments_lexer": "ipython3",
   "version": "3.9.13"
  }
 },
 "nbformat": 4,
 "nbformat_minor": 5
}
